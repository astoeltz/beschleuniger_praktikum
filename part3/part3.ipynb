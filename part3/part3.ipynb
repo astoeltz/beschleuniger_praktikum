{
 "cells": [
  {
   "cell_type": "markdown",
   "metadata": {},
   "source": [
    "# PART III c)"
   ]
  },
  {
   "cell_type": "code",
   "execution_count": 7,
   "metadata": {},
   "outputs": [],
   "source": [
    "import pandas as pd\n",
    "import matplotlib.pyplot as plt\n",
    "from scipy.optimize import curve_fit\n",
    "import numpy as np\n",
    "%matplotlib qt"
   ]
  },
  {
   "cell_type": "code",
   "execution_count": 8,
   "metadata": {},
   "outputs": [],
   "source": [
    "def lin(x,m,t):\n",
    "    return m*x+t"
   ]
  },
  {
   "cell_type": "code",
   "execution_count": 9,
   "metadata": {},
   "outputs": [
    {
     "data": {
      "text/html": [
       "<div>\n",
       "<style scoped>\n",
       "    .dataframe tbody tr th:only-of-type {\n",
       "        vertical-align: middle;\n",
       "    }\n",
       "\n",
       "    .dataframe tbody tr th {\n",
       "        vertical-align: top;\n",
       "    }\n",
       "\n",
       "    .dataframe thead th {\n",
       "        text-align: right;\n",
       "    }\n",
       "</style>\n",
       "<table border=\"1\" class=\"dataframe\">\n",
       "  <thead>\n",
       "    <tr style=\"text-align: right;\">\n",
       "      <th></th>\n",
       "      <th>x bpm1</th>\n",
       "      <th>x bpm2</th>\n",
       "      <th>q1</th>\n",
       "      <th>q2</th>\n",
       "      <th>dq1</th>\n",
       "      <th>dq2</th>\n",
       "    </tr>\n",
       "    <tr>\n",
       "      <th>dp</th>\n",
       "      <th></th>\n",
       "      <th></th>\n",
       "      <th></th>\n",
       "      <th></th>\n",
       "      <th></th>\n",
       "      <th></th>\n",
       "    </tr>\n",
       "  </thead>\n",
       "  <tbody>\n",
       "    <tr>\n",
       "      <th>-0.005</th>\n",
       "      <td>-0.001143</td>\n",
       "      <td>-0.001806</td>\n",
       "      <td>6.788327</td>\n",
       "      <td>2.660692</td>\n",
       "      <td>0.303642</td>\n",
       "      <td>6.916810</td>\n",
       "    </tr>\n",
       "    <tr>\n",
       "      <th>-0.002</th>\n",
       "      <td>-0.000431</td>\n",
       "      <td>-0.000749</td>\n",
       "      <td>6.790896</td>\n",
       "      <td>2.682702</td>\n",
       "      <td>1.447811</td>\n",
       "      <td>7.768016</td>\n",
       "    </tr>\n",
       "    <tr>\n",
       "      <th>0.000</th>\n",
       "      <td>-0.000009</td>\n",
       "      <td>0.000007</td>\n",
       "      <td>6.794679</td>\n",
       "      <td>2.698843</td>\n",
       "      <td>2.358451</td>\n",
       "      <td>8.380545</td>\n",
       "    </tr>\n",
       "    <tr>\n",
       "      <th>0.002</th>\n",
       "      <td>0.000363</td>\n",
       "      <td>0.000808</td>\n",
       "      <td>6.800436</td>\n",
       "      <td>2.716259</td>\n",
       "      <td>3.430101</td>\n",
       "      <td>9.046475</td>\n",
       "    </tr>\n",
       "    <tr>\n",
       "      <th>0.005</th>\n",
       "      <td>0.000805</td>\n",
       "      <td>0.002109</td>\n",
       "      <td>6.813630</td>\n",
       "      <td>2.745068</td>\n",
       "      <td>5.471275</td>\n",
       "      <td>10.197388</td>\n",
       "    </tr>\n",
       "  </tbody>\n",
       "</table>\n",
       "</div>"
      ],
      "text/plain": [
       "          x bpm1    x bpm2        q1        q2       dq1        dq2\n",
       "dp                                                                 \n",
       "-0.005 -0.001143 -0.001806  6.788327  2.660692  0.303642   6.916810\n",
       "-0.002 -0.000431 -0.000749  6.790896  2.682702  1.447811   7.768016\n",
       " 0.000 -0.000009  0.000007  6.794679  2.698843  2.358451   8.380545\n",
       " 0.002  0.000363  0.000808  6.800436  2.716259  3.430101   9.046475\n",
       " 0.005  0.000805  0.002109  6.813630  2.745068  5.471275  10.197388"
      ]
     },
     "execution_count": 9,
     "metadata": {},
     "output_type": "execute_result"
    }
   ],
   "source": [
    "data=pd.read_csv('part3c.csv', index_col=0)\n",
    "data"
   ]
  },
  {
   "cell_type": "code",
   "execution_count": 10,
   "metadata": {},
   "outputs": [
    {
     "data": {
      "text/plain": [
       "array([ 1.95314672e-01, -8.30169444e-05])"
      ]
     },
     "execution_count": 10,
     "metadata": {},
     "output_type": "execute_result"
    }
   ],
   "source": [
    "popt, pcov = curve_fit(lin, data.index, data['x bpm1'])\n",
    "popt"
   ]
  },
  {
   "cell_type": "markdown",
   "metadata": {},
   "source": [
    "Dispersion in BPM1: 0.195314672 m  (comparison to twiss file: 0.1991774487)"
   ]
  },
  {
   "cell_type": "code",
   "execution_count": 11,
   "metadata": {},
   "outputs": [
    {
     "data": {
      "text/plain": [
       "array([3.91190287e-01, 7.38301908e-05])"
      ]
     },
     "execution_count": 11,
     "metadata": {},
     "output_type": "execute_result"
    }
   ],
   "source": [
    "popt2, pcov2 = curve_fit(lin, data.index, data['x bpm2'])\n",
    "popt2"
   ]
  },
  {
   "cell_type": "markdown",
   "metadata": {},
   "source": [
    "Dispersion in BPM2: 0.391190287 m (comparison to twiss file: 0.3891638269)"
   ]
  },
  {
   "cell_type": "code",
   "execution_count": 13,
   "metadata": {},
   "outputs": [],
   "source": [
    "plt.plot(data['x bpm1'],'o-', label='BPM 1')\n",
    "plt.plot(data.index, lin(data.index,*popt),'--', label=r'Fit BPM1')\n",
    "plt.plot(data['x bpm2'],'o-', label='BPM 2')\n",
    "plt.plot(data.index, lin(data.index,*popt2),'--', label=r'Fit BPM2')\n",
    "plt.ylabel('x position in m')\n",
    "plt.xlabel(r'$\\Delta p/p$')\n",
    "plt.legend();"
   ]
  },
  {
   "cell_type": "code",
   "execution_count": 14,
   "metadata": {},
   "outputs": [],
   "source": [
    "def quad(x,a,b,c):\n",
    "    return a*x**2+b*x+c"
   ]
  },
  {
   "cell_type": "code",
   "execution_count": 15,
   "metadata": {
    "scrolled": true
   },
   "outputs": [
    {
     "data": {
      "text/plain": [
       "array([252.51116254,   2.51029574,   6.79466458])"
      ]
     },
     "execution_count": 15,
     "metadata": {},
     "output_type": "execute_result"
    }
   ],
   "source": [
    "popt3, pcov3 = curve_fit(quad, data.index, data['q1'])\n",
    "popt3"
   ]
  },
  {
   "cell_type": "markdown",
   "metadata": {},
   "source": [
    "Chromaticity in x direction: 2.51029574 (comparison to twiss file: 2.358451)"
   ]
  },
  {
   "cell_type": "code",
   "execution_count": 39,
   "metadata": {},
   "outputs": [],
   "source": [
    "plt.plot(data['q1'],'o-', label='Q1')\n",
    "plt.plot(data.index, quad(data.index,*popt3),'--', label='Fit Q1')\n",
    "plt.ylabel('Tune')\n",
    "plt.xlabel(r'$\\Delta p/p$')\n",
    "plt.legend();"
   ]
  },
  {
   "cell_type": "code",
   "execution_count": 18,
   "metadata": {
    "scrolled": true
   },
   "outputs": [
    {
     "data": {
      "text/plain": [
       "array([161.69368795,   8.43099167,   2.69883723])"
      ]
     },
     "execution_count": 18,
     "metadata": {},
     "output_type": "execute_result"
    }
   ],
   "source": [
    "popt4, pcov4 = curve_fit(quad, data.index, data['q2'])\n",
    "popt4"
   ]
  },
  {
   "cell_type": "markdown",
   "metadata": {},
   "source": [
    "Chromaticity in y direction: 8.43099167 (comparison to twiss file: 8.380545)"
   ]
  },
  {
   "cell_type": "code",
   "execution_count": 19,
   "metadata": {},
   "outputs": [],
   "source": [
    "plt.plot(data['q2'],'o-', label='Q2')\n",
    "plt.plot(data.index, quad(data.index,*popt4),'--', label='Fit Q2')\n",
    "plt.ylabel('Tune')\n",
    "plt.xlabel(r'$\\Delta p/p$')\n",
    "plt.legend();"
   ]
  },
  {
   "cell_type": "code",
   "execution_count": 54,
   "metadata": {},
   "outputs": [
    {
     "data": {
      "text/plain": [
       "dp\n",
       "-0.005     6.916810\n",
       "-0.002     7.768016\n",
       " 0.000     8.380545\n",
       " 0.002     9.046475\n",
       " 0.005    10.197388\n",
       "Name: dq2, dtype: float64"
      ]
     },
     "execution_count": 54,
     "metadata": {},
     "output_type": "execute_result"
    }
   ],
   "source": [
    "data['dq2']"
   ]
  },
  {
   "cell_type": "markdown",
   "metadata": {},
   "source": [
    "# PART III d)"
   ]
  },
  {
   "cell_type": "code",
   "execution_count": 20,
   "metadata": {},
   "outputs": [],
   "source": [
    "q1=6.794679\n",
    "q2=2.698843\n",
    "beta0x_family1_1=15.51\n",
    "beta0y_family1_1=9.144\n",
    "beta0x_family1_2=19.24\n",
    "l_family3=0.39\n",
    "l_default=0.32"
   ]
  },
  {
   "cell_type": "code",
   "execution_count": 21,
   "metadata": {},
   "outputs": [
    {
     "data": {
      "text/html": [
       "<div>\n",
       "<style scoped>\n",
       "    .dataframe tbody tr th:only-of-type {\n",
       "        vertical-align: middle;\n",
       "    }\n",
       "\n",
       "    .dataframe tbody tr th {\n",
       "        vertical-align: top;\n",
       "    }\n",
       "\n",
       "    .dataframe thead th {\n",
       "        text-align: right;\n",
       "    }\n",
       "</style>\n",
       "<table border=\"1\" class=\"dataframe\">\n",
       "  <thead>\n",
       "    <tr style=\"text-align: right;\">\n",
       "      <th></th>\n",
       "      <th>family</th>\n",
       "      <th>percent of kq</th>\n",
       "      <th>q1</th>\n",
       "      <th>q2</th>\n",
       "    </tr>\n",
       "  </thead>\n",
       "  <tbody>\n",
       "    <tr>\n",
       "      <th>0</th>\n",
       "      <td>1</td>\n",
       "      <td>0.95</td>\n",
       "      <td>6.229656</td>\n",
       "      <td>2.822544</td>\n",
       "    </tr>\n",
       "    <tr>\n",
       "      <th>1</th>\n",
       "      <td>1</td>\n",
       "      <td>1.05</td>\n",
       "      <td>7.147678</td>\n",
       "      <td>2.522961</td>\n",
       "    </tr>\n",
       "    <tr>\n",
       "      <th>2</th>\n",
       "      <td>2</td>\n",
       "      <td>0.95</td>\n",
       "      <td>6.902550</td>\n",
       "      <td>2.229925</td>\n",
       "    </tr>\n",
       "    <tr>\n",
       "      <th>3</th>\n",
       "      <td>2</td>\n",
       "      <td>1.05</td>\n",
       "      <td>6.660148</td>\n",
       "      <td>3.180405</td>\n",
       "    </tr>\n",
       "    <tr>\n",
       "      <th>4</th>\n",
       "      <td>3</td>\n",
       "      <td>0.95</td>\n",
       "      <td>6.601481</td>\n",
       "      <td>2.766610</td>\n",
       "    </tr>\n",
       "    <tr>\n",
       "      <th>5</th>\n",
       "      <td>3</td>\n",
       "      <td>1.05</td>\n",
       "      <td>6.979753</td>\n",
       "      <td>2.533548</td>\n",
       "    </tr>\n",
       "    <tr>\n",
       "      <th>6</th>\n",
       "      <td>4</td>\n",
       "      <td>0.98</td>\n",
       "      <td>6.817540</td>\n",
       "      <td>2.348782</td>\n",
       "    </tr>\n",
       "    <tr>\n",
       "      <th>7</th>\n",
       "      <td>4</td>\n",
       "      <td>1.05</td>\n",
       "      <td>6.711703</td>\n",
       "      <td>3.155252</td>\n",
       "    </tr>\n",
       "    <tr>\n",
       "      <th>8</th>\n",
       "      <td>5</td>\n",
       "      <td>0.95</td>\n",
       "      <td>6.496701</td>\n",
       "      <td>2.937224</td>\n",
       "    </tr>\n",
       "    <tr>\n",
       "      <th>9</th>\n",
       "      <td>5</td>\n",
       "      <td>1.05</td>\n",
       "      <td>7.033817</td>\n",
       "      <td>2.223021</td>\n",
       "    </tr>\n",
       "  </tbody>\n",
       "</table>\n",
       "</div>"
      ],
      "text/plain": [
       "   family  percent of kq        q1        q2\n",
       "0       1           0.95  6.229656  2.822544\n",
       "1       1           1.05  7.147678  2.522961\n",
       "2       2           0.95  6.902550  2.229925\n",
       "3       2           1.05  6.660148  3.180405\n",
       "4       3           0.95  6.601481  2.766610\n",
       "5       3           1.05  6.979753  2.533548\n",
       "6       4           0.98  6.817540  2.348782\n",
       "7       4           1.05  6.711703  3.155252\n",
       "8       5           0.95  6.496701  2.937224\n",
       "9       5           1.05  7.033817  2.223021"
      ]
     },
     "execution_count": 21,
     "metadata": {},
     "output_type": "execute_result"
    }
   ],
   "source": [
    "data2=pd.read_csv('part3d.csv')\n",
    "data2"
   ]
  },
  {
   "cell_type": "code",
   "execution_count": 22,
   "metadata": {},
   "outputs": [
    {
     "data": {
      "text/plain": [
       "0.3743487236183105"
      ]
     },
     "execution_count": 22,
     "metadata": {},
     "output_type": "execute_result"
    }
   ],
   "source": [
    "4*0.25*1./np.pi*(beta0x_family1_1+beta0x_family1_2)*2.1152*0.05*l_default"
   ]
  },
  {
   "cell_type": "code",
   "execution_count": 34,
   "metadata": {},
   "outputs": [
    {
     "data": {
      "text/plain": [
       "7.147677581"
      ]
     },
     "execution_count": 34,
     "metadata": {},
     "output_type": "execute_result"
    }
   ],
   "source": [
    "data2['q1'][1]"
   ]
  },
  {
   "cell_type": "code",
   "execution_count": 35,
   "metadata": {},
   "outputs": [
    {
     "data": {
      "text/plain": [
       "-0.3529985809999996"
      ]
     },
     "execution_count": 35,
     "metadata": {},
     "output_type": "execute_result"
    }
   ],
   "source": [
    "q1-data2['q1'][1]"
   ]
  },
  {
   "cell_type": "markdown",
   "metadata": {},
   "source": [
    "Just one quad Q1.s1.01 to 105%"
   ]
  },
  {
   "cell_type": "code",
   "execution_count": 36,
   "metadata": {},
   "outputs": [],
   "source": [
    "q1_single=6.841368071\n",
    "q2_single=2.642508858"
   ]
  },
  {
   "cell_type": "code",
   "execution_count": 37,
   "metadata": {},
   "outputs": [
    {
     "data": {
      "text/plain": [
       "0.0417708539807194"
      ]
     },
     "execution_count": 37,
     "metadata": {},
     "output_type": "execute_result"
    }
   ],
   "source": [
    "0.25*1./np.pi*(beta0x_family1_1)*2.1152*0.05*l_default"
   ]
  },
  {
   "cell_type": "code",
   "execution_count": 38,
   "metadata": {},
   "outputs": [
    {
     "data": {
      "text/plain": [
       "-0.046689070999999416"
      ]
     },
     "execution_count": 38,
     "metadata": {},
     "output_type": "execute_result"
    }
   ],
   "source": [
    "q1-q1_single"
   ]
  },
  {
   "cell_type": "code",
   "execution_count": 27,
   "metadata": {},
   "outputs": [
    {
     "data": {
      "text/plain": [
       "0.024626221070257782"
      ]
     },
     "execution_count": 27,
     "metadata": {},
     "output_type": "execute_result"
    }
   ],
   "source": [
    "0.25*1./np.pi*(beta0y_family1_1)*2.1152*0.05*l_default"
   ]
  },
  {
   "cell_type": "code",
   "execution_count": 28,
   "metadata": {},
   "outputs": [
    {
     "data": {
      "text/plain": [
       "0.05633414200000031"
      ]
     },
     "execution_count": 28,
     "metadata": {},
     "output_type": "execute_result"
    }
   ],
   "source": [
    "q2-q2_single"
   ]
  },
  {
   "cell_type": "markdown",
   "metadata": {},
   "source": [
    "# PART III e)"
   ]
  },
  {
   "cell_type": "code",
   "execution_count": 29,
   "metadata": {},
   "outputs": [],
   "source": [
    "# Sextupols at nominal strength\n",
    "dq1=2.358451\n",
    "dq2=8.380545"
   ]
  },
  {
   "cell_type": "code",
   "execution_count": 30,
   "metadata": {},
   "outputs": [],
   "source": [
    "# Sextupols off\n",
    "dq1_natural=-13.3469989\n",
    "dq2_natural=-6.897383668"
   ]
  },
  {
   "cell_type": "code",
   "execution_count": null,
   "metadata": {},
   "outputs": [],
   "source": []
  },
  {
   "cell_type": "code",
   "execution_count": null,
   "metadata": {},
   "outputs": [],
   "source": []
  }
 ],
 "metadata": {
  "kernelspec": {
   "display_name": "Python 3",
   "language": "python",
   "name": "python3"
  },
  "language_info": {
   "codemirror_mode": {
    "name": "ipython",
    "version": 3
   },
   "file_extension": ".py",
   "mimetype": "text/x-python",
   "name": "python",
   "nbconvert_exporter": "python",
   "pygments_lexer": "ipython3",
   "version": "3.7.6"
  }
 },
 "nbformat": 4,
 "nbformat_minor": 4
}
