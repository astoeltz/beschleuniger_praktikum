{
 "cells": [
  {
   "cell_type": "code",
   "execution_count": 1,
   "metadata": {},
   "outputs": [],
   "source": [
    "import pandas as pd\n",
    "import matplotlib.pyplot as plt\n",
    "from scipy.optimize import curve_fit\n",
    "import numpy as np\n",
    "%matplotlib qt"
   ]
  },
  {
   "cell_type": "code",
   "execution_count": 25,
   "metadata": {},
   "outputs": [],
   "source": [
    "refl1=pd.read_csv('REFLEKTIONKABEL1.CSV',skiprows=2,usecols=(0,1), index_col=0)\n",
    "trans1=pd.read_csv('TRANSMISSIONKABEL1.CSV',skiprows=2,usecols=(0,1), index_col=0)\n",
    "refl2=pd.read_csv('REFLEKTIONKABEL2.CSV',skiprows=2,usecols=(0,1), index_col=0)\n",
    "trans2=pd.read_csv('TRANSMISSIONKABEL2.CSV',skiprows=2,usecols=(0,1), index_col=0)\n"
   ]
  },
  {
   "cell_type": "code",
   "execution_count": 28,
   "metadata": {},
   "outputs": [
    {
     "data": {
      "text/plain": [
       "Text(0, 0.5, 'Return loss [dB]')"
      ]
     },
     "execution_count": 28,
     "metadata": {},
     "output_type": "execute_result"
    }
   ],
   "source": [
    "plt.figure()\n",
    "plt.plot(refl1, '-', label=r'RG58 - reflection: $10\\cdot\\log(r_1)$')\n",
    "plt.plot(refl2, '-', label=r'RG59 - reflection: $10\\cdot\\log(r_2)$')\n",
    "plt.legend()\n",
    "plt.title('Reflection')\n",
    "plt.xlabel('Frequency [Hz]')\n",
    "plt.ylabel('Return loss [dB]');"
   ]
  },
  {
   "cell_type": "code",
   "execution_count": 27,
   "metadata": {},
   "outputs": [
    {
     "data": {
      "text/plain": [
       "Text(0, 0.5, 'Attenuation [dB]')"
      ]
     },
     "execution_count": 27,
     "metadata": {},
     "output_type": "execute_result"
    }
   ],
   "source": [
    "plt.figure()\n",
    "plt.plot(trans1, '-', label=r'RG58 - transmission: $10\\cdot\\log(t_1)$')\n",
    "plt.plot(trans2, '-', label=r'RG59 - transmission: $10\\cdot\\log(t_2)$')\n",
    "plt.legend()\n",
    "plt.title('Transmission')\n",
    "plt.xlabel('Frequency [Hz]')\n",
    "plt.ylabel('Attenuation [dB]');"
   ]
  },
  {
   "cell_type": "code",
   "execution_count": null,
   "metadata": {},
   "outputs": [],
   "source": []
  }
 ],
 "metadata": {
  "kernelspec": {
   "display_name": "Python 3",
   "language": "python",
   "name": "python3"
  },
  "language_info": {
   "codemirror_mode": {
    "name": "ipython",
    "version": 3
   },
   "file_extension": ".py",
   "mimetype": "text/x-python",
   "name": "python",
   "nbconvert_exporter": "python",
   "pygments_lexer": "ipython3",
   "version": "3.7.6"
  }
 },
 "nbformat": 4,
 "nbformat_minor": 4
}
